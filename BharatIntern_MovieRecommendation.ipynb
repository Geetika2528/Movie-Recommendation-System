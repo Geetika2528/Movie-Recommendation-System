{
 "cells": [
  {
   "cell_type": "code",
   "execution_count": 18,
   "id": "0daf673c",
   "metadata": {},
   "outputs": [
    {
     "name": "stdout",
     "output_type": "stream",
     "text": [
      "Ratings DataFrame:\n",
      "   userId  movieId  rating   timestamp\n",
      "0       1      296     5.0  1147880044\n",
      "1       1      306     3.5  1147868817\n",
      "2       1      307     5.0  1147868828\n",
      "3       1      665     5.0  1147878820\n",
      "4       1      899     3.5  1147868510\n",
      "\n",
      "Movies DataFrame:\n",
      "   movieId                               title  \\\n",
      "0        1                    Toy Story (1995)   \n",
      "1        2                      Jumanji (1995)   \n",
      "2        3             Grumpier Old Men (1995)   \n",
      "3        4            Waiting to Exhale (1995)   \n",
      "4        5  Father of the Bride Part II (1995)   \n",
      "\n",
      "                                        genres  \n",
      "0  Adventure|Animation|Children|Comedy|Fantasy  \n",
      "1                   Adventure|Children|Fantasy  \n",
      "2                               Comedy|Romance  \n",
      "3                         Comedy|Drama|Romance  \n",
      "4                                       Comedy  \n",
      "\n",
      "Merged DataFrame:\n",
      "   userId  movieId  rating   timestamp                title  \\\n",
      "0       1      296     5.0  1147880044  Pulp Fiction (1994)   \n",
      "1       3      296     5.0  1439474476  Pulp Fiction (1994)   \n",
      "2       4      296     4.0  1573938898  Pulp Fiction (1994)   \n",
      "3       5      296     4.0   830786155  Pulp Fiction (1994)   \n",
      "4       7      296     4.0   835444730  Pulp Fiction (1994)   \n",
      "\n",
      "                        genres  \n",
      "0  Comedy|Crime|Drama|Thriller  \n",
      "1  Comedy|Crime|Drama|Thriller  \n",
      "2  Comedy|Crime|Drama|Thriller  \n",
      "3  Comedy|Crime|Drama|Thriller  \n",
      "4  Comedy|Crime|Drama|Thriller  \n"
     ]
    },
    {
     "ename": "ModuleNotFoundError",
     "evalue": "No module named 'surprise'",
     "output_type": "error",
     "traceback": [
      "\u001b[1;31m---------------------------------------------------------------------------\u001b[0m",
      "\u001b[1;31mModuleNotFoundError\u001b[0m                       Traceback (most recent call last)",
      "Cell \u001b[1;32mIn[18], line 16\u001b[0m\n\u001b[0;32m     13\u001b[0m \u001b[38;5;28mprint\u001b[39m(\u001b[38;5;124m\"\u001b[39m\u001b[38;5;130;01m\\n\u001b[39;00m\u001b[38;5;124mMerged DataFrame:\u001b[39m\u001b[38;5;124m\"\u001b[39m)\n\u001b[0;32m     14\u001b[0m \u001b[38;5;28mprint\u001b[39m(data\u001b[38;5;241m.\u001b[39mhead())\n\u001b[1;32m---> 16\u001b[0m \u001b[38;5;28;01mfrom\u001b[39;00m \u001b[38;5;21;01msurprise\u001b[39;00m \u001b[38;5;28;01mimport\u001b[39;00m Dataset, Reader, KNNBasic\n\u001b[0;32m     17\u001b[0m \u001b[38;5;28;01mfrom\u001b[39;00m \u001b[38;5;21;01msurprise\u001b[39;00m\u001b[38;5;21;01m.\u001b[39;00m\u001b[38;5;21;01mmodel_selection\u001b[39;00m \u001b[38;5;28;01mimport\u001b[39;00m train_test_split\n\u001b[0;32m     18\u001b[0m \u001b[38;5;28;01mfrom\u001b[39;00m \u001b[38;5;21;01msurprise\u001b[39;00m \u001b[38;5;28;01mimport\u001b[39;00m accuracy\n",
      "\u001b[1;31mModuleNotFoundError\u001b[0m: No module named 'surprise'"
     ]
    }
   ],
   "source": [
    "import pandas as pd\n",
    "import os\n",
    "dataset_dir = os.path.expanduser(r\"C:\\Users\\ASUS\\BHARAT_INTERN\")\n",
    "ratings_path = os.path.join(dataset_dir, 'ratings.csv')\n",
    "movies_path = os.path.join(dataset_dir, 'movies.csv')\n",
    "ratings = pd.read_csv(ratings_path)\n",
    "movies = pd.read_csv(movies_path)\n",
    "print(\"Ratings DataFrame:\")\n",
    "print(ratings.head())\n",
    "print(\"\\nMovies DataFrame:\")\n",
    "print(movies.head())\n",
    "data = pd.merge(ratings, movies, on='movieId')\n",
    "print(\"\\nMerged DataFrame:\")\n",
    "print(data.head())\n",
    "\n",
    "from surprise import Dataset, Reader, KNNBasic\n",
    "from surprise.model_selection import train_test_split\n",
    "from surprise import accuracy\n",
    "reader = Reader(rating_scale=(0.5, 5.0))\n",
    "surprise_data = Dataset.load_from_df(ratings[['userId', 'movieId', 'rating']], reader)\n",
    "trainset, testset = train_test_split(surprise_data, test_size=0.25)\n",
    "algo = KNNBasic()\n",
    "algo.fit(trainset)\n",
    "predictions = algo.test(testset)\n",
    "accuracy.rmse(predictions)\n",
    "\n",
    "def get_top_n_recommendations(user_id, n=10):\n",
    "    all_movie_ids = data['movieId'].unique()\n",
    "    rated_movie_ids = ratings[ratings['userId'] == user_id]['movieId']\n",
    "    unrated_movie_ids = [movie_id for movie_id in all_movie_ids if movie_id not in rated_movie_ids]\n",
    "    predictions = [algo.predict(user_id, movie_id) for movie_id in unrated_movie_ids]\n",
    "    top_predictions = sorted(predictions, key=lambda x: x.est, reverse=True)\n",
    "    top_movie_ids = [pred.iid for pred in top_predictions[:n]]\n",
    "    top_movies = movies[movies['movieId'].isin(top_movie_ids)]\n",
    "    \n",
    "    return top_movies\n",
    "top_recommendations = get_top_n_recommendations(user_id=1, n=10)\n",
    "print(top_recommendations)"
   ]
  },
  {
   "cell_type": "code",
   "execution_count": null,
   "id": "1bcbbdaf",
   "metadata": {},
   "outputs": [],
   "source": []
  }
 ],
 "metadata": {
  "kernelspec": {
   "display_name": "Python 3 (ipykernel)",
   "language": "python",
   "name": "python3"
  },
  "language_info": {
   "codemirror_mode": {
    "name": "ipython",
    "version": 3
   },
   "file_extension": ".py",
   "mimetype": "text/x-python",
   "name": "python",
   "nbconvert_exporter": "python",
   "pygments_lexer": "ipython3",
   "version": "3.11.5"
  }
 },
 "nbformat": 4,
 "nbformat_minor": 5
}
